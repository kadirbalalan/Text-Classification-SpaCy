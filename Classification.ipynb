{
 "cells": [
  {
   "cell_type": "code",
   "execution_count": 2,
   "id": "fb54138b",
   "metadata": {},
   "outputs": [],
   "source": [
    "from spacy.tokens import DocBin\n",
    "from ml_datasets import imdb\n",
    "import fr_core_news_md\n",
    "import spacy"
   ]
  },
  {
   "cell_type": "code",
   "execution_count": 3,
   "id": "ea8b4cd4",
   "metadata": {},
   "outputs": [],
   "source": [
    "train_data, valid_data = imdb()"
   ]
  },
  {
   "cell_type": "code",
   "execution_count": 8,
   "id": "a19af5d0",
   "metadata": {},
   "outputs": [],
   "source": [
    "def make_docs(data):\n",
    "    docs = []\n",
    "    for doc, label in nlp.pipe(data, as_tuples=True):\n",
    "        if label == \"pos\":\n",
    "            doc.cats[\"positive\"] = 1\n",
    "            doc.cats[\"negative\"] = 0\n",
    "        else:\n",
    "            doc.cats[\"positive\"] = 0\n",
    "            doc.cats[\"negative\"] = 1\n",
    "        docs.append(doc)\n",
    "    return(docs)"
   ]
  },
  {
   "cell_type": "code",
   "execution_count": 9,
   "id": "5dc21445",
   "metadata": {},
   "outputs": [],
   "source": [
    "nlp = spacy.load(\"en_core_web_trf\")"
   ]
  },
  {
   "cell_type": "code",
   "execution_count": 12,
   "id": "12986a3c",
   "metadata": {},
   "outputs": [],
   "source": [
    "num_texts = 500\n",
    "\n",
    "train_docs = make_docs(train_data[:num_texts])\n",
    "doc_bin = DocBin(docs=train_docs)\n",
    "doc_bin.to_disk(\"./pandas/train.spacy\")\n",
    "\n",
    "valid_docs = make_docs(valid_data[:num_texts])\n",
    "doc_bin = DocBin(docs=valid_docs)\n",
    "doc_bin.to_disk(\"./pandas/valid.spacy\")"
   ]
  },
  {
   "cell_type": "code",
   "execution_count": 4,
   "id": "19784072",
   "metadata": {},
   "outputs": [],
   "source": [
    "nlp = spacy.load(\"output\\model-best\")"
   ]
  },
  {
   "cell_type": "code",
   "execution_count": 15,
   "id": "f06bc5ef",
   "metadata": {},
   "outputs": [],
   "source": [
    "text = train_data[2072]"
   ]
  },
  {
   "cell_type": "code",
   "execution_count": 16,
   "id": "e1d77645",
   "metadata": {},
   "outputs": [],
   "source": [
    "doc = nlp(text[0])"
   ]
  },
  {
   "cell_type": "code",
   "execution_count": 17,
   "id": "d8fdfa44",
   "metadata": {},
   "outputs": [
    {
     "data": {
      "text/plain": [
       "{'positive': 0.0008033789927139878, 'negative': 0.9991647005081177}"
      ]
     },
     "execution_count": 17,
     "metadata": {},
     "output_type": "execute_result"
    }
   ],
   "source": [
    "doc.cats"
   ]
  },
  {
   "cell_type": "code",
   "execution_count": 18,
   "id": "331c972a",
   "metadata": {},
   "outputs": [
    {
     "data": {
      "text/plain": [
       "(\"This movie was made by a bunch of white guys that went to school together. Well there's nothing wrong with that, except it looks like it was made by a bunch of white guys that went to school together. 90 percent of the cast are white males about same age. It's almost like watching a bunch of guys at boys camp who turned the camera on themselves. The movie has no plot. It simply repeats the same action of blood bath after blood bath. There are some funny scenes and comedic bits. But they don't redeem the flat monotony.\\n\\n\\n\\nThe graphic cartoon scenes are used to cover the stuff that was obviously beyond their budget or resources to do, and not done very well at that. Anything that can't be done with white guys running around on the beach covered in blood is done with cheap animation.\\n\\n\\n\\nI went to see this film after seeing the trailer, which makes it look like a Tarrentino piece. Well, the trailer scenes are as good as they ever get. Ther rest of it just repeats the same kind of mundane, inane comedy. It works at times, but it gets boring after the same stuff comes at you over and over. It's more like a string of Satuday Night Live skits than a movie. It's a hit-you-over-the-head-with-it kind of comedy. I can see where the story idea is intriguing. But, in this film post apocalyptic America is much like Medevil England. In fact Wheatlry says the story ideas came from that era. He plans to make a Part 2. I guess he thinks he's Tarrentino or maybe doing a parody thing.\\n\\n\\n\\nAt the opening in LA, Wheatley mentioned he will bring back pretty much the same cast in part 2. He was asked if he might consider a more diverse cast in the next one, to which he replied, well yea, sure.\",\n",
       " 'neg')"
      ]
     },
     "execution_count": 18,
     "metadata": {},
     "output_type": "execute_result"
    }
   ],
   "source": [
    "text"
   ]
  },
  {
   "cell_type": "code",
   "execution_count": 19,
   "id": "9d7761f1",
   "metadata": {},
   "outputs": [
    {
     "data": {
      "text/plain": [
       "{'positive': 0.9999939203262329, 'negative': 4.825131782126846e-06}"
      ]
     },
     "execution_count": 19,
     "metadata": {},
     "output_type": "execute_result"
    }
   ],
   "source": [
    "text2 = \"I like this movie.\"\n",
    "doc2 = nlp(text2)\n",
    "doc2.cats"
   ]
  },
  {
   "cell_type": "code",
   "execution_count": 20,
   "id": "bb2f3e28",
   "metadata": {},
   "outputs": [
    {
     "data": {
      "text/plain": [
       "{'positive': 0.40605244040489197, 'negative': 0.4592644274234772}"
      ]
     },
     "execution_count": 20,
     "metadata": {},
     "output_type": "execute_result"
    }
   ],
   "source": [
    "text3 = \"This movie is 5/10. Not bad, not good.\"\n",
    "doc3 = nlp(text3)\n",
    "doc3.cats"
   ]
  }
 ],
 "metadata": {
  "kernelspec": {
   "display_name": "Python 3 (ipykernel)",
   "language": "python",
   "name": "python3"
  },
  "language_info": {
   "codemirror_mode": {
    "name": "ipython",
    "version": 3
   },
   "file_extension": ".py",
   "mimetype": "text/x-python",
   "name": "python",
   "nbconvert_exporter": "python",
   "pygments_lexer": "ipython3",
   "version": "3.11.3"
  }
 },
 "nbformat": 4,
 "nbformat_minor": 5
}
