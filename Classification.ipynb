{
 "cells": [
  {
   "cell_type": "markdown",
   "id": "4cdd38c4",
   "metadata": {},
   "source": [
    "# Text Classification with SpaCy"
   ]
  },
  {
   "cell_type": "markdown",
   "id": "ac028a0c",
   "metadata": {},
   "source": [
    "This model will focus on movie reviews. The dataset used for this model is binary: The model will train on whether the review is positive or negative."
   ]
  },
  {
   "cell_type": "markdown",
   "id": "73d9b50f",
   "metadata": {},
   "source": [
    "# Preperations for training the model"
   ]
  },
  {
   "cell_type": "code",
   "execution_count": 6,
   "id": "fb54138b",
   "metadata": {},
   "outputs": [],
   "source": [
    "from spacy.tokens import DocBin\n",
    "from ml_datasets import imdb # The dataset that will be used to train the model is IMDB user reviews dataset.\n",
    "import fr_core_news_md\n",
    "import spacy"
   ]
  },
  {
   "cell_type": "code",
   "execution_count": 7,
   "id": "ea8b4cd4",
   "metadata": {},
   "outputs": [],
   "source": [
    "train_data, valid_data = imdb() # Creating 2 variables for training data and validation data."
   ]
  },
  {
   "cell_type": "markdown",
   "id": "3fb188c0",
   "metadata": {},
   "source": [
    "Defining values for the labeles, if the review is positive, it has a positive value of 1 and negative value of 0 and vice versa."
   ]
  },
  {
   "cell_type": "code",
   "execution_count": 8,
   "id": "a19af5d0",
   "metadata": {},
   "outputs": [],
   "source": [
    "def make_docs(data):\n",
    "    docs = []\n",
    "    for doc, label in nlp.pipe(data, as_tuples=True):\n",
    "        if label == \"pos\":\n",
    "            doc.cats[\"positive\"] = 1\n",
    "            doc.cats[\"negative\"] = 0\n",
    "        else:\n",
    "            doc.cats[\"positive\"] = 0\n",
    "            doc.cats[\"negative\"] = 1\n",
    "        docs.append(doc)\n",
    "    return(docs)"
   ]
  },
  {
   "cell_type": "code",
   "execution_count": 9,
   "id": "5dc21445",
   "metadata": {},
   "outputs": [],
   "source": [
    "nlp = spacy.load(\"en_core_web_trf\") # Loading SpaCy English transformer pipeline (roberta-base)."
   ]
  },
  {
   "cell_type": "markdown",
   "id": "f751b301",
   "metadata": {},
   "source": [
    "Creating the training and validation data to begin training the model."
   ]
  },
  {
   "cell_type": "code",
   "execution_count": 12,
   "id": "12986a3c",
   "metadata": {},
   "outputs": [],
   "source": [
    "num_texts = 500\n",
    "\n",
    "train_docs = make_docs(train_data[:num_texts])\n",
    "doc_bin = DocBin(docs=train_docs)\n",
    "doc_bin.to_disk(\"./pandas/train.spacy\")\n",
    "\n",
    "valid_docs = make_docs(valid_data[:num_texts])\n",
    "doc_bin = DocBin(docs=valid_docs)\n",
    "doc_bin.to_disk(\"./pandas/valid.spacy\")"
   ]
  },
  {
   "cell_type": "markdown",
   "id": "e019669f",
   "metadata": {},
   "source": [
    "# Testing the model"
   ]
  },
  {
   "cell_type": "markdown",
   "id": "76213484",
   "metadata": {},
   "source": [
    "The model is trained after 8 hours with 0.96 precision."
   ]
  },
  {
   "cell_type": "code",
   "execution_count": 8,
   "id": "19784072",
   "metadata": {},
   "outputs": [],
   "source": [
    "nlp = spacy.load(\"output\\model-best\") # The best model."
   ]
  },
  {
   "cell_type": "code",
   "execution_count": 9,
   "id": "f06bc5ef",
   "metadata": {},
   "outputs": [],
   "source": [
    "text = train_data[2072] # A random movie review that the model has not seen."
   ]
  },
  {
   "cell_type": "code",
   "execution_count": 16,
   "id": "e1d77645",
   "metadata": {},
   "outputs": [
    {
     "data": {
      "text/plain": [
       "('This is a very old and cheaply made film--a typical low-budget B-Western in so many ways. Gary Cooper was not yet a star and this film is highly reminiscent of the early films of John Wayne that were done for \"poverty row\" studios. With both actors, their familiar style and persona were still not completely formed. This incarnation of Gary Cooper doesn\\'t seem exactly like the Cooper of just a few years later (he talks faster in this early film, among other things).\\n\\n\\n\\nHowever, unlike the average B-movie of the era, there are at least a few interesting elements that make the film unique (if not good). If you ever want to see the woman that was married to Errol Flynn for seven years, this is your chance. Lili Damita stars as the female love interest and this is a very, very odd casting choice, as she has a heavy accent (she was French) and wasn\\'t even close to being \"movie star pretty\". Incidentally, she was also married to director Michael Curtiz. \\n\\n\\n\\nBut for me, the most memorable and weird aspect of the film is the seemingly gay subplot--sort of like a BROKEBACK MOUNTAIN from the 1930s (and we thought this was a NEW idea). Gary Cooper\\'s character was raised by two men who hate women and do everything they can through much of the film to keep Cooper clear of females. This misogyny alone doesn\\'t necessarily mean much, but there are so many clues throughout the film that indicate the makers of the film really were trying to portray them as a gay couple. In particular, towards the end, when one of them is killed, the other is shot by an arrow and holds off dying long enough to crawl over to the body of his fallen friend and then falls--with his arms cradled around him! This was pretty edgy stuff for the time and I think this makes this dull film really fascinating today! As far as Cooper and the plot go, the film is a bit of a disappointment and very skip-able. Unless you are curious about Damita or the homosexual undertones, do yourself a favor and find a better Western.',\n",
       " 'neg')"
      ]
     },
     "execution_count": 16,
     "metadata": {},
     "output_type": "execute_result"
    }
   ],
   "source": [
    "doc = nlp(text[0])\n",
    "text"
   ]
  },
  {
   "cell_type": "code",
   "execution_count": 11,
   "id": "d8fdfa44",
   "metadata": {},
   "outputs": [
    {
     "data": {
      "text/plain": [
       "{'positive': 0.09725569933652878, 'negative': 0.8936318755149841}"
      ]
     },
     "execution_count": 11,
     "metadata": {},
     "output_type": "execute_result"
    }
   ],
   "source": [
    "doc.cats # Printing the guesses."
   ]
  },
  {
   "cell_type": "markdown",
   "id": "127b6191",
   "metadata": {},
   "source": [
    "As can be seen, the model is relativelty sure that this is a negative review and as can be seen at the end of the text, it is a negative review."
   ]
  },
  {
   "cell_type": "code",
   "execution_count": 13,
   "id": "9d7761f1",
   "metadata": {},
   "outputs": [
    {
     "data": {
      "text/plain": [
       "{'positive': 0.9999939203262329, 'negative': 4.825131782126846e-06}"
      ]
     },
     "execution_count": 13,
     "metadata": {},
     "output_type": "execute_result"
    }
   ],
   "source": [
    "text2 = \"I like this movie.\"\n",
    "doc2 = nlp(text2)\n",
    "doc2.cats"
   ]
  },
  {
   "cell_type": "markdown",
   "id": "5407a56f",
   "metadata": {},
   "source": [
    "The other models are bad at evaluating short and non movie related texts because dataset contains all movie related and long text. The best model is somewhat good at short texts too."
   ]
  },
  {
   "cell_type": "code",
   "execution_count": 18,
   "id": "bb2f3e28",
   "metadata": {},
   "outputs": [
    {
     "data": {
      "text/plain": [
       "{'positive': 0.40605244040489197, 'negative': 0.4592644274234772}"
      ]
     },
     "execution_count": 18,
     "metadata": {},
     "output_type": "execute_result"
    }
   ],
   "source": [
    "text3 = \"This movie is 5/10. Not bad, not good.\" # A neutral and short review.\n",
    "doc3 = nlp(text3)\n",
    "doc3.cats"
   ]
  },
  {
   "cell_type": "code",
   "execution_count": 19,
   "id": "bc968547",
   "metadata": {},
   "outputs": [
    {
     "data": {
      "text/plain": [
       "{'positive': 0.0020606203470379114, 'negative': 0.9981915354728699}"
      ]
     },
     "execution_count": 19,
     "metadata": {},
     "output_type": "execute_result"
    }
   ],
   "source": [
    "text4 = \"Honest and totally honest. If people are giving 8-9 stars for just graphics and designing & VFX, back up people, there is alot more there should be for a 9 star. It starts good, it gives you hopes, the comedy is good, but then, it gets all sentimental and emotional. I know it is needed, but it just gets so much that it kind of gets sleepy. They carry the story too slow because of this emotional backstories, not actually focusing on the main writing, I do not really think the back stories were really required so much and even more so, not so much in DETAIL. After all things said and done, the movie heads to main plotline, how to get to stop the villain, a squad is formed for that, the main character is stuck and needs to find a way out, it all gets interesting, and then, A CLIFFHANGER. End. Wasted too much time in the unnecessary and making a part 3 out of that seems like a loosen your pocket for more in the next one. People giving 8-9 stars, even 10, seriously! Grow up kiddos. This movie wasn not MARVEL at all. It was Disneyland for kids.\"\n",
    "doc4 = nlp(text4)\n",
    "doc4.cats"
   ]
  },
  {
   "cell_type": "markdown",
   "id": "68847466",
   "metadata": {},
   "source": [
    "This review is taken from the IMDB website manually. The user gave 5 stars to the movie but did not gave enough credit for the part they liked. As can be seen from this example, what can be trusted is actual review and not the stars."
   ]
  },
  {
   "cell_type": "code",
   "execution_count": 20,
   "id": "4b2e307c",
   "metadata": {},
   "outputs": [
    {
     "data": {
      "text/plain": [
       "'Honest and totally honest. If people are giving 8-9 stars for just graphics and designing & VFX, back up people, there is alot more there should be for a 9 star. It starts good, it gives you hopes, the comedy is good, but then, it gets all sentimental and emotional. I know it is needed, but it just gets so much that it kind of gets sleepy. They carry the story too slow because of this emotional backstories, not actually focusing on the main writing, I do not really think the back stories were really required so much and even more so, not so much in DETAIL. After all things said and done, the movie heads to main plotline, how to get to stop the villain, a squad is formed for that, the main character is stuck and needs to find a way out, it all gets interesting, and then, A CLIFFHANGER. End. Wasted too much time in the unnecessary and making a part 3 out of that seems like a loosen your pocket for more in the next one. People giving 8-9 stars, even 10, seriously! Grow up kiddos. This movie wasn not MARVEL at all. It was Disneyland for kids.'"
      ]
     },
     "execution_count": 20,
     "metadata": {},
     "output_type": "execute_result"
    }
   ],
   "source": [
    "text4"
   ]
  }
 ],
 "metadata": {
  "kernelspec": {
   "display_name": "Python 3 (ipykernel)",
   "language": "python",
   "name": "python3"
  },
  "language_info": {
   "codemirror_mode": {
    "name": "ipython",
    "version": 3
   },
   "file_extension": ".py",
   "mimetype": "text/x-python",
   "name": "python",
   "nbconvert_exporter": "python",
   "pygments_lexer": "ipython3",
   "version": "3.11.3"
  }
 },
 "nbformat": 4,
 "nbformat_minor": 5
}
